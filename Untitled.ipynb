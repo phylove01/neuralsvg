{
 "cells": [
  {
   "cell_type": "code",
   "execution_count": 1,
   "id": "0fd8a54c-3b6c-4809-a30a-45cddf6ed982",
   "metadata": {},
   "outputs": [],
   "source": [
    "import pandas as pd\n",
    "import os"
   ]
  },
  {
   "cell_type": "code",
   "execution_count": 2,
   "id": "b2fe5cdb-2cf6-441e-8c97-671d58ce3791",
   "metadata": {},
   "outputs": [],
   "source": [
    "path = r'C:\\Users\\이수용\\Desktop\\fonts-main\\dataset'"
   ]
  },
  {
   "cell_type": "code",
   "execution_count": 3,
   "id": "8a78d519-870c-496d-9d02-b094c23e5e04",
   "metadata": {},
   "outputs": [],
   "source": [
    "data = pd.read_pickle(os.path.join(path,'save01.pkl'))"
   ]
  },
  {
   "cell_type": "code",
   "execution_count": 6,
   "id": "3ebf5193-d8f1-4cf2-a6e0-8d84149c2af5",
   "metadata": {},
   "outputs": [],
   "source": [
    "row=data.iloc[0]"
   ]
  },
  {
   "cell_type": "code",
   "execution_count": 12,
   "id": "a4b43b04-5a0c-40ba-b489-48a2e2896c7d",
   "metadata": {},
   "outputs": [
    {
     "data": {
      "text/plain": [
       "12"
      ]
     },
     "execution_count": 12,
     "metadata": {},
     "output_type": "execute_result"
    }
   ],
   "source": [
    "ord('M')-ord('A')"
   ]
  },
  {
   "cell_type": "code",
   "execution_count": null,
   "id": "89e7cbcf-eab7-4531-8a80-672745026701",
   "metadata": {},
   "outputs": [],
   "source": []
  }
 ],
 "metadata": {
  "kernelspec": {
   "display_name": "Python 3 (ipykernel)",
   "language": "python",
   "name": "python3"
  },
  "language_info": {
   "codemirror_mode": {
    "name": "ipython",
    "version": 3
   },
   "file_extension": ".py",
   "mimetype": "text/x-python",
   "name": "python",
   "nbconvert_exporter": "python",
   "pygments_lexer": "ipython3",
   "version": "3.11.5"
  }
 },
 "nbformat": 4,
 "nbformat_minor": 5
}
